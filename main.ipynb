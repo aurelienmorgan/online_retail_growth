{
 "cells": [
  {
   "cell_type": "markdown",
   "metadata": {},
   "source": [
    "<a name=\"page-top\"></a><a name=\"page-top\"></a>\n",
    "<div style=\"text-align: justify\">\n",
    "NOTE : for better user experience, this notebook uses the <span style=\"background-color: #e0e0e0\">&nbsp;Python Markdown&nbsp;</span> Jupyter Notebook extension (@see the corresponding <a href = \"https://jupyter-contrib-nbextensions.readthedocs.io/en/latest/nbextensions/python-markdown/readme.html\" >ReadTheDoc page</a> and the associated <a href = \"https://github.com/ipython-contrib/jupyter_contrib_nbextensions\" >GitHub repo</a> for details). Please make sure it is installed and activated on your environment and that the current notebook is set as \"Trusted\" for it to work.\n",
    "</div>"
   ]
  },
  {
   "cell_type": "code",
   "execution_count": null,
   "metadata": {},
   "outputs": [],
   "source": []
  },
  {
   "cell_type": "markdown",
   "metadata": {},
   "source": [
    "<center><img src=\".\\images\\under-construction.png\" width=\"700px\" /></center>"
   ]
  },
  {
   "cell_type": "code",
   "execution_count": null,
   "metadata": {},
   "outputs": [],
   "source": []
  },
  {
   "cell_type": "code",
   "execution_count": null,
   "metadata": {},
   "outputs": [],
   "source": []
  },
  {
   "cell_type": "code",
   "execution_count": null,
   "metadata": {},
   "outputs": [],
   "source": []
  },
  {
   "cell_type": "code",
   "execution_count": null,
   "metadata": {},
   "outputs": [],
   "source": []
  },
  {
   "cell_type": "code",
   "execution_count": null,
   "metadata": {},
   "outputs": [],
   "source": []
  },
  {
   "cell_type": "code",
   "execution_count": null,
   "metadata": {},
   "outputs": [],
   "source": []
  },
  {
   "cell_type": "code",
   "execution_count": null,
   "metadata": {},
   "outputs": [],
   "source": []
  },
  {
   "cell_type": "code",
   "execution_count": null,
   "metadata": {},
   "outputs": [],
   "source": []
  },
  {
   "cell_type": "code",
   "execution_count": null,
   "metadata": {},
   "outputs": [],
   "source": []
  },
  {
   "cell_type": "code",
   "execution_count": null,
   "metadata": {},
   "outputs": [],
   "source": []
  },
  {
   "cell_type": "code",
   "execution_count": null,
   "metadata": {},
   "outputs": [],
   "source": []
  },
  {
   "cell_type": "code",
   "execution_count": null,
   "metadata": {},
   "outputs": [],
   "source": []
  },
  {
   "cell_type": "markdown",
   "metadata": {},
   "source": [
    "<hr style=\"height:2px;border-width:0;color:gray;background-color:gray;width:80%\" />"
   ]
  },
  {
   "cell_type": "markdown",
   "metadata": {},
   "source": [
    "# <a name=\"extra\"></a>\n",
    "<h1>EXTRA <small><em><a href=\"#page-top\">(go back to top &uarr;)]</a></em></small></h1>"
   ]
  },
  {
   "cell_type": "markdown",
   "metadata": {},
   "source": [
    "<b>Export Notebook to HTML (with Markdown extension cells evaluated and hidden cell outputs omitted)&nbsp;:</b>"
   ]
  },
  {
   "cell_type": "code",
   "execution_count": 5,
   "metadata": {},
   "outputs": [
    {
     "data": {
      "text/plain": [
       "'D:\\\\jupyter_notebooks\\\\Retail\\\\main.ipynb'"
      ]
     },
     "execution_count": 5,
     "metadata": {},
     "output_type": "execute_result"
    }
   ],
   "source": [
    "import os ; from my_retail_growth_lib.utils import get_notebook_fullname\n",
    "get_notebook_fullname()"
   ]
  },
  {
   "cell_type": "markdown",
   "metadata": {
    "variables": {
     "get_notebook_fullname()": "D:\\jupyter_notebooks\\Retail\\main.ipynb",
     "os.path.realpath('.')": "D:\\jupyter_notebooks\\Retail"
    }
   },
   "source": [
    "<em>(to be launched from the conda env which holds the Jupyter installation, the one named '<b>r-tensorflow</b>', in our personal case)</em>\n",
    "<br />\n",
    "<br />\n",
    "<code>\n",
    "<br />\n",
    "conda activate r-tensorflow\n",
    "python\n",
    "<br />\n",
    "import os ; os.getcwd()\n",
    "os.chdir('{{os.path.realpath('.')}}') # to set working dirctory\n",
    "from my_TS_Anomaly_lib.jupyter_markdown_extension import md_extension_to_html\n",
    "md_extension_to_html('{{get_notebook_fullname()}}')\n",
    "<br />\n",
    "</code>\n",
    "\"Ctrl+D\" (to exit python console mode)"
   ]
  },
  {
   "cell_type": "code",
   "execution_count": null,
   "metadata": {},
   "outputs": [],
   "source": []
  },
  {
   "cell_type": "code",
   "execution_count": null,
   "metadata": {},
   "outputs": [],
   "source": []
  },
  {
   "cell_type": "code",
   "execution_count": null,
   "metadata": {},
   "outputs": [],
   "source": []
  }
 ],
 "metadata": {
  "kernelspec": {
   "display_name": "Python [conda env:tensorflow2]",
   "language": "python",
   "name": "conda-env-tensorflow2-py"
  },
  "language_info": {
   "codemirror_mode": {
    "name": "ipython",
    "version": 3
   },
   "file_extension": ".py",
   "mimetype": "text/x-python",
   "name": "python",
   "nbconvert_exporter": "python",
   "pygments_lexer": "ipython3",
   "version": "3.6.8"
  }
 },
 "nbformat": 4,
 "nbformat_minor": 2
}
